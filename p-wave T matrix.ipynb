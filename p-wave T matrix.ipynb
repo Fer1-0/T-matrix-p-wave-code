{
 "cells": [
  {
   "cell_type": "code",
   "execution_count": 95,
   "id": "4f95a1a8",
   "metadata": {},
   "outputs": [],
   "source": [
    "import matplotlib.pyplot as plt\n",
    "import numpy as np\n",
    "from math import pow, cos, sin, sqrt, pi, sqrt\n",
    "import scipy as sp\n",
    "from mpl_toolkits.mplot3d import axes3d\n",
    "from matplotlib import cm\n",
    "import time"
   ]
  },
  {
   "cell_type": "code",
   "execution_count": 96,
   "id": "e4f080c7",
   "metadata": {},
   "outputs": [],
   "source": [
    "Nx=15\n",
    "Ny=15\n",
    "a=1\n",
    "V0=-10\n",
    "Vn=0\n",
    "t=0"
   ]
  },
  {
   "cell_type": "code",
   "execution_count": 97,
   "id": "b0b3a250",
   "metadata": {},
   "outputs": [],
   "source": [
    "kx=np.zeros(Nx)\n",
    "ky=np.zeros(Ny)\n",
    "\n",
    "for rx in range(0,Nx):\n",
    "    kx[rx] =  2*pi*(rx)/(a*(Nx-1))\n",
    "for ry in range(0,Ny):\n",
    "    ky[ry] =  2*pi*(ry)/(a*(Ny-1))\n",
    "    \n",
    "    \n",
    "#for rx in range(0,Nx):\n",
    "#    kx[rx] = -pi/a + 2*pi*(rx)/(a*(Nx-1))\n",
    "#for ry in range(0,Ny):\n",
    "#    ky[ry] = -pi/a + 2*pi*(ry)/(a*(Ny-1))"
   ]
  },
  {
   "cell_type": "code",
   "execution_count": 98,
   "id": "75afb323",
   "metadata": {},
   "outputs": [
    {
     "data": {
      "text/plain": [
       "array([0.        , 0.44879895, 0.8975979 , 1.34639685, 1.7951958 ,\n",
       "       2.24399475, 2.6927937 , 3.14159265, 3.5903916 , 4.03919055,\n",
       "       4.48798951, 4.93678846, 5.38558741, 5.83438636, 6.28318531])"
      ]
     },
     "execution_count": 98,
     "metadata": {},
     "output_type": "execute_result"
    }
   ],
   "source": [
    "kx"
   ]
  },
  {
   "cell_type": "code",
   "execution_count": 99,
   "id": "dcafc7de",
   "metadata": {},
   "outputs": [
    {
     "data": {
      "text/plain": [
       "array([0.        , 0.44879895, 0.8975979 , 1.34639685, 1.7951958 ,\n",
       "       2.24399475, 2.6927937 , 3.14159265, 3.5903916 , 4.03919055,\n",
       "       4.48798951, 4.93678846, 5.38558741, 5.83438636, 6.28318531])"
      ]
     },
     "execution_count": 99,
     "metadata": {},
     "output_type": "execute_result"
    }
   ],
   "source": [
    "ky"
   ]
  },
  {
   "cell_type": "code",
   "execution_count": 100,
   "id": "61857bb5",
   "metadata": {},
   "outputs": [],
   "source": [
    "#se construye la matriz que se usará para relacionar los indices de V(i,j) con sus valores dados\n",
    "p=np.zeros(Nx*Ny)\n",
    "b=0\n",
    "for rx in range(0,Nx):\n",
    "    for ry in range(0,Ny):\n",
    "        p[b]=b+1\n",
    "        b=b+1\n",
    "q = np.zeros((Nx,Ny))\n",
    "c=0\n",
    "for nx in range(0,Nx):\n",
    "    for ny in range(0,Ny):\n",
    "        q[nx][ny] = p[c]\n",
    "        c=c+1"
   ]
  },
  {
   "cell_type": "code",
   "execution_count": 101,
   "id": "22ba14bd",
   "metadata": {},
   "outputs": [
    {
     "data": {
      "text/plain": [
       "array([[  1.,   2.,   3.,   4.,   5.,   6.,   7.,   8.,   9.,  10.,  11.,\n",
       "         12.,  13.,  14.,  15.],\n",
       "       [ 16.,  17.,  18.,  19.,  20.,  21.,  22.,  23.,  24.,  25.,  26.,\n",
       "         27.,  28.,  29.,  30.],\n",
       "       [ 31.,  32.,  33.,  34.,  35.,  36.,  37.,  38.,  39.,  40.,  41.,\n",
       "         42.,  43.,  44.,  45.],\n",
       "       [ 46.,  47.,  48.,  49.,  50.,  51.,  52.,  53.,  54.,  55.,  56.,\n",
       "         57.,  58.,  59.,  60.],\n",
       "       [ 61.,  62.,  63.,  64.,  65.,  66.,  67.,  68.,  69.,  70.,  71.,\n",
       "         72.,  73.,  74.,  75.],\n",
       "       [ 76.,  77.,  78.,  79.,  80.,  81.,  82.,  83.,  84.,  85.,  86.,\n",
       "         87.,  88.,  89.,  90.],\n",
       "       [ 91.,  92.,  93.,  94.,  95.,  96.,  97.,  98.,  99., 100., 101.,\n",
       "        102., 103., 104., 105.],\n",
       "       [106., 107., 108., 109., 110., 111., 112., 113., 114., 115., 116.,\n",
       "        117., 118., 119., 120.],\n",
       "       [121., 122., 123., 124., 125., 126., 127., 128., 129., 130., 131.,\n",
       "        132., 133., 134., 135.],\n",
       "       [136., 137., 138., 139., 140., 141., 142., 143., 144., 145., 146.,\n",
       "        147., 148., 149., 150.],\n",
       "       [151., 152., 153., 154., 155., 156., 157., 158., 159., 160., 161.,\n",
       "        162., 163., 164., 165.],\n",
       "       [166., 167., 168., 169., 170., 171., 172., 173., 174., 175., 176.,\n",
       "        177., 178., 179., 180.],\n",
       "       [181., 182., 183., 184., 185., 186., 187., 188., 189., 190., 191.,\n",
       "        192., 193., 194., 195.],\n",
       "       [196., 197., 198., 199., 200., 201., 202., 203., 204., 205., 206.,\n",
       "        207., 208., 209., 210.],\n",
       "       [211., 212., 213., 214., 215., 216., 217., 218., 219., 220., 221.,\n",
       "        222., 223., 224., 225.]])"
      ]
     },
     "execution_count": 101,
     "metadata": {},
     "output_type": "execute_result"
    }
   ],
   "source": [
    "q"
   ]
  },
  {
   "cell_type": "code",
   "execution_count": 102,
   "id": "e6998978",
   "metadata": {},
   "outputs": [],
   "source": [
    "#se define la matriz i y j de dimension NxN=N**2\n",
    "def i(rx,ry):\n",
    "    return q[rx,ry]\n",
    "def j(rx,ry):\n",
    "    return q[rx,ry]"
   ]
  },
  {
   "cell_type": "code",
   "execution_count": 103,
   "id": "e736bd46",
   "metadata": {},
   "outputs": [
    {
     "data": {
      "text/plain": [
       "1.0"
      ]
     },
     "execution_count": 103,
     "metadata": {},
     "output_type": "execute_result"
    }
   ],
   "source": [
    "i(0,0)"
   ]
  },
  {
   "cell_type": "code",
   "execution_count": 104,
   "id": "db71542a",
   "metadata": {},
   "outputs": [
    {
     "data": {
      "text/plain": [
       "1.0"
      ]
     },
     "execution_count": 104,
     "metadata": {},
     "output_type": "execute_result"
    }
   ],
   "source": [
    "j(0,0)"
   ]
  },
  {
   "cell_type": "code",
   "execution_count": 105,
   "id": "98aa53bc",
   "metadata": {},
   "outputs": [],
   "source": [
    "#relacionamos cada elemento de la matriz con sus indices\n",
    "def find(element, matrix):\n",
    "    for i in range(len(matrix)):\n",
    "        for j in range(len(matrix[i])):\n",
    "            if matrix[i][j] == element:\n",
    "                return (i, j)"
   ]
  },
  {
   "cell_type": "code",
   "execution_count": 106,
   "id": "2d51c779",
   "metadata": {},
   "outputs": [],
   "source": [
    "#mostramos la matriz N**2 X N**2\n",
    "def V(i,j):\n",
    "    k1=find(i,q)\n",
    "    k2=find(j,q)\n",
    "    \n",
    "    kx1=kx[k1[0]]\n",
    "    ky1=ky[k1[1]]\n",
    "    \n",
    "    kx2=kx[k2[0]]\n",
    "    ky2=ky[k2[1]]\n",
    "    return V0+Vn*(cos((kx1-kx2)*a)+cos((ky1-ky2)*a))"
   ]
  },
  {
   "cell_type": "code",
   "execution_count": 107,
   "id": "78e472f3",
   "metadata": {},
   "outputs": [],
   "source": [
    "#se muestra la función V en forma matricial\n",
    "Vm = np.zeros((Nx**2,Ny**2))\n",
    "for m in range(0,Nx*Nx):\n",
    "    for n in range(0,Ny*Ny):\n",
    "        Vm[m][n] = V(m+1,n+1)"
   ]
  },
  {
   "cell_type": "code",
   "execution_count": 108,
   "id": "512f7c56",
   "metadata": {},
   "outputs": [
    {
     "data": {
      "text/plain": [
       "array([[-10., -10., -10., ..., -10., -10., -10.],\n",
       "       [-10., -10., -10., ..., -10., -10., -10.],\n",
       "       [-10., -10., -10., ..., -10., -10., -10.],\n",
       "       ...,\n",
       "       [-10., -10., -10., ..., -10., -10., -10.],\n",
       "       [-10., -10., -10., ..., -10., -10., -10.],\n",
       "       [-10., -10., -10., ..., -10., -10., -10.]])"
      ]
     },
     "execution_count": 108,
     "metadata": {},
     "output_type": "execute_result"
    }
   ],
   "source": [
    "Vm\n",
    "#se ve que debido a que Vn=0 y V0=-10, entonces todos los elementos\n",
    "#de la matriz potencial será igual a -10"
   ]
  },
  {
   "cell_type": "code",
   "execution_count": 109,
   "id": "1daf2507",
   "metadata": {},
   "outputs": [],
   "source": [
    "#mostramos la función de energía cinética E\n",
    "def E(i):\n",
    "    k1=find(i,q)\n",
    "    \n",
    "    kx1=kx[k1[0]]\n",
    "    ky1=ky[k1[1]]\n",
    "    return -2*t*(cos(kx1*a)+cos(ky1*a))"
   ]
  },
  {
   "cell_type": "code",
   "execution_count": 110,
   "id": "315d92e9",
   "metadata": {},
   "outputs": [
    {
     "data": {
      "text/plain": [
       "0.0"
      ]
     },
     "execution_count": 110,
     "metadata": {},
     "output_type": "execute_result"
    }
   ],
   "source": [
    "E(1)"
   ]
  },
  {
   "cell_type": "code",
   "execution_count": 111,
   "id": "26458e4b",
   "metadata": {},
   "outputs": [],
   "source": [
    "#se añade un factor complejo a la energía\n",
    "eta = 0.5\n",
    "cpj= complex(0,1)"
   ]
  },
  {
   "cell_type": "code",
   "execution_count": 112,
   "id": "a59d7a1e",
   "metadata": {},
   "outputs": [],
   "source": [
    "#mostramos la función K, que depende de w\n",
    "def K(i,j,w):\n",
    "    return V(i,j)/((w-2*E(j)+cpj*eta))"
   ]
  },
  {
   "cell_type": "code",
   "execution_count": 113,
   "id": "e2649c91",
   "metadata": {},
   "outputs": [],
   "source": [
    "#se da a función K en forma matricial que depende de w\n",
    "U = np.zeros((Nx**2, Ny**2), dtype=complex)\n",
    "def Km(w):\n",
    "    for nx in range(0,Nx**2):\n",
    "        for ny in range(0,Ny**2):\n",
    "            U[nx][ny] = K(nx+1,ny+1,w)\n",
    "    return U"
   ]
  },
  {
   "cell_type": "code",
   "execution_count": 114,
   "id": "dc52c285",
   "metadata": {},
   "outputs": [
    {
     "data": {
      "text/plain": [
       "array([[-8.+4.j, -8.+4.j, -8.+4.j, ..., -8.+4.j, -8.+4.j, -8.+4.j],\n",
       "       [-8.+4.j, -8.+4.j, -8.+4.j, ..., -8.+4.j, -8.+4.j, -8.+4.j],\n",
       "       [-8.+4.j, -8.+4.j, -8.+4.j, ..., -8.+4.j, -8.+4.j, -8.+4.j],\n",
       "       ...,\n",
       "       [-8.+4.j, -8.+4.j, -8.+4.j, ..., -8.+4.j, -8.+4.j, -8.+4.j],\n",
       "       [-8.+4.j, -8.+4.j, -8.+4.j, ..., -8.+4.j, -8.+4.j, -8.+4.j],\n",
       "       [-8.+4.j, -8.+4.j, -8.+4.j, ..., -8.+4.j, -8.+4.j, -8.+4.j]])"
      ]
     },
     "execution_count": 114,
     "metadata": {},
     "output_type": "execute_result"
    }
   ],
   "source": [
    "Km(1)"
   ]
  },
  {
   "cell_type": "code",
   "execution_count": 115,
   "id": "6d20bc30",
   "metadata": {},
   "outputs": [],
   "source": [
    "#se define la matriz identidad\n",
    "I = np.zeros((Nx**2,Ny**2), dtype=complex)\n",
    "for nx in range(0,Nx**2):\n",
    "    I[nx][nx] = 1.0"
   ]
  },
  {
   "cell_type": "code",
   "execution_count": 123,
   "id": "15296e72",
   "metadata": {},
   "outputs": [],
   "source": [
    "#se define la matriz T\n",
    "def T(w):\n",
    "    K2 = (I-Km(w))\n",
    "    K3 = np.linalg.inv(K2) #matriz inversa\n",
    "    K4 = np.dot(Vm, K3) #producto matricial\n",
    "    return K4[0][0].imag #solo se estan tomando los valores donde ambos momentos son iguales a cero, se usa la parte imaginaria"
   ]
  },
  {
   "cell_type": "code",
   "execution_count": 124,
   "id": "98bd6992",
   "metadata": {},
   "outputs": [],
   "source": [
    "x = np.linspace(-15,5,80)"
   ]
  },
  {
   "cell_type": "code",
   "execution_count": 125,
   "id": "9c4cb545",
   "metadata": {},
   "outputs": [
    {
     "name": "stdout",
     "output_type": "stream",
     "text": [
      "Execution time: 409.07215332984924 seconds\n"
     ]
    }
   ],
   "source": [
    "# se añade un algoritmo para medir el tiempo de compilacion\n",
    "st = time.time()\n",
    "\n",
    "#algoritmo para generar los valores de la cadena para T(w)\n",
    "\n",
    "R =np.zeros(len(x))\n",
    "for z in range(len(x)):\n",
    "    R[z] = T(x[z])\n",
    "    \n",
    "    \n",
    "    \n",
    "\n",
    "\n",
    "# espera por 3 segundos\n",
    "time.sleep(3)\n",
    "\n",
    "\n",
    "# se obtiene el tiempo final\n",
    "et = time.time()\n",
    "\n",
    "# se tiene el tiempo de ejecución\n",
    "elapsed_time = et - st\n",
    "print('Execution time:', elapsed_time, 'seconds')"
   ]
  },
  {
   "cell_type": "code",
   "execution_count": 126,
   "id": "d64c38a0",
   "metadata": {},
   "outputs": [
    {
     "data": {
      "image/png": "[encoded data removed]",
      "text/plain": [
       "<Figure size 640x480 with 1 Axes>"
      ]
     },
     "metadata": {},
     "output_type": "display_data"
    }
   ],
   "source": [
    "plt.plot(x, R)\n",
    "plt.grid()\n",
    "plt.xlabel('w')\n",
    "plt.ylabel('T(w)')\n",
    "plt.show()"
   ]
  },
  {
   "cell_type": "code",
   "execution_count": null,
   "id": "a3f13aa3",
   "metadata": {},
   "outputs": [],
   "source": []
  },
  {
   "cell_type": "code",
   "execution_count": null,
   "id": "6bcd2d12",
   "metadata": {},
   "outputs": [],
   "source": []
  },
  {
   "cell_type": "code",
   "execution_count": null,
   "id": "ee768b2f",
   "metadata": {},
   "outputs": [],
   "source": []
  },
  {
   "cell_type": "code",
   "execution_count": null,
   "id": "9143f703",
   "metadata": {},
   "outputs": [],
   "source": []
  },
  {
   "cell_type": "code",
   "execution_count": null,
   "id": "de3f1360",
   "metadata": {},
   "outputs": [],
   "source": []
  }
 ],
 "metadata": {
  "kernelspec": {
   "display_name": "Python 3 (ipykernel)",
   "language": "python",
   "name": "python3"
  },
  "language_info": {
   "codemirror_mode": {
    "name": "ipython",
    "version": 3
   },
   "file_extension": ".py",
   "mimetype": "text/x-python",
   "name": "python",
   "nbconvert_exporter": "python",
   "pygments_lexer": "ipython3",
   "version": "3.9.13"
  }
 },
 "nbformat": 4,
 "nbformat_minor": 5
}
