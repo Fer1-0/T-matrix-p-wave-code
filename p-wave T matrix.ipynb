{
 "cells": [
  {
   "cell_type": "code",
   "execution_count": 92,
   "id": "4f95a1a8",
   "metadata": {},
   "outputs": [],
   "source": [
    "import matplotlib.pyplot as plt\n",
    "import numpy as np\n",
    "from math import pow, cos, sin, sqrt, pi, sqrt\n",
    "import scipy as sp\n",
    "from mpl_toolkits.mplot3d import axes3d\n",
    "from matplotlib import cm\n",
    "import time"
   ]
  },
  {
   "cell_type": "code",
   "execution_count": 93,
   "id": "e4f080c7",
   "metadata": {},
   "outputs": [],
   "source": [
    "Nx=21\n",
    "Ny=21\n",
    "a=1\n",
    "V0=-10\n",
    "Vn=0\n",
    "t=0"
   ]
  },
  {
   "cell_type": "code",
   "execution_count": 94,
   "id": "b0b3a250",
   "metadata": {},
   "outputs": [],
   "source": [
    "kx=np.zeros(Nx)\n",
    "ky=np.zeros(Ny)\n",
    "        \n",
    "for rx in range(0,Nx):\n",
    "    kx[rx] = -pi/a + 2*pi*(rx)/(a*(Nx-1))\n",
    "for ry in range(0,Ny):\n",
    "    ky[ry] = -pi/a + 2*pi*(ry)/(a*(Ny-1))"
   ]
  },
  {
   "cell_type": "code",
   "execution_count": 95,
   "id": "d1da0a42",
   "metadata": {},
   "outputs": [
    {
     "data": {
      "text/plain": [
       "array([-3.14159265, -2.82743339, -2.51327412, -2.19911486, -1.88495559,\n",
       "       -1.57079633, -1.25663706, -0.9424778 , -0.62831853, -0.31415927,\n",
       "        0.        ,  0.31415927,  0.62831853,  0.9424778 ,  1.25663706,\n",
       "        1.57079633,  1.88495559,  2.19911486,  2.51327412,  2.82743339,\n",
       "        3.14159265])"
      ]
     },
     "execution_count": 95,
     "metadata": {},
     "output_type": "execute_result"
    }
   ],
   "source": [
    "kx\n",
    "#se nota que kx[10]=0"
   ]
  },
  {
   "cell_type": "code",
   "execution_count": 96,
   "id": "fcfcedae",
   "metadata": {},
   "outputs": [
    {
     "data": {
      "text/plain": [
       "array([-3.14159265, -2.82743339, -2.51327412, -2.19911486, -1.88495559,\n",
       "       -1.57079633, -1.25663706, -0.9424778 , -0.62831853, -0.31415927,\n",
       "        0.        ,  0.31415927,  0.62831853,  0.9424778 ,  1.25663706,\n",
       "        1.57079633,  1.88495559,  2.19911486,  2.51327412,  2.82743339,\n",
       "        3.14159265])"
      ]
     },
     "execution_count": 96,
     "metadata": {},
     "output_type": "execute_result"
    }
   ],
   "source": [
    "ky"
   ]
  },
  {
   "cell_type": "code",
   "execution_count": 97,
   "id": "61857bb5",
   "metadata": {},
   "outputs": [],
   "source": [
    "#se construye la matriz que se usará para relacionar los indices de V(i,j) con sus valores dados\n",
    "p=np.zeros(Nx*Ny)\n",
    "b=0\n",
    "for rx in range(0,Nx):\n",
    "    for ry in range(0,Ny):\n",
    "        p[b]=b\n",
    "        b=b+1\n",
    "q = np.zeros((Nx,Ny))\n",
    "c=0\n",
    "for nx in range(0,Nx):\n",
    "    for ny in range(0,Ny):\n",
    "        q[nx][ny] = p[c]\n",
    "        c=c+1"
   ]
  },
  {
   "cell_type": "code",
   "execution_count": 98,
   "id": "b024640c",
   "metadata": {},
   "outputs": [
    {
     "data": {
      "text/plain": [
       "array([[  0.,   1.,   2.,   3.,   4.,   5.,   6.,   7.,   8.,   9.,  10.,\n",
       "         11.,  12.,  13.,  14.,  15.,  16.,  17.,  18.,  19.,  20.],\n",
       "       [ 21.,  22.,  23.,  24.,  25.,  26.,  27.,  28.,  29.,  30.,  31.,\n",
       "         32.,  33.,  34.,  35.,  36.,  37.,  38.,  39.,  40.,  41.],\n",
       "       [ 42.,  43.,  44.,  45.,  46.,  47.,  48.,  49.,  50.,  51.,  52.,\n",
       "         53.,  54.,  55.,  56.,  57.,  58.,  59.,  60.,  61.,  62.],\n",
       "       [ 63.,  64.,  65.,  66.,  67.,  68.,  69.,  70.,  71.,  72.,  73.,\n",
       "         74.,  75.,  76.,  77.,  78.,  79.,  80.,  81.,  82.,  83.],\n",
       "       [ 84.,  85.,  86.,  87.,  88.,  89.,  90.,  91.,  92.,  93.,  94.,\n",
       "         95.,  96.,  97.,  98.,  99., 100., 101., 102., 103., 104.],\n",
       "       [105., 106., 107., 108., 109., 110., 111., 112., 113., 114., 115.,\n",
       "        116., 117., 118., 119., 120., 121., 122., 123., 124., 125.],\n",
       "       [126., 127., 128., 129., 130., 131., 132., 133., 134., 135., 136.,\n",
       "        137., 138., 139., 140., 141., 142., 143., 144., 145., 146.],\n",
       "       [147., 148., 149., 150., 151., 152., 153., 154., 155., 156., 157.,\n",
       "        158., 159., 160., 161., 162., 163., 164., 165., 166., 167.],\n",
       "       [168., 169., 170., 171., 172., 173., 174., 175., 176., 177., 178.,\n",
       "        179., 180., 181., 182., 183., 184., 185., 186., 187., 188.],\n",
       "       [189., 190., 191., 192., 193., 194., 195., 196., 197., 198., 199.,\n",
       "        200., 201., 202., 203., 204., 205., 206., 207., 208., 209.],\n",
       "       [210., 211., 212., 213., 214., 215., 216., 217., 218., 219., 220.,\n",
       "        221., 222., 223., 224., 225., 226., 227., 228., 229., 230.],\n",
       "       [231., 232., 233., 234., 235., 236., 237., 238., 239., 240., 241.,\n",
       "        242., 243., 244., 245., 246., 247., 248., 249., 250., 251.],\n",
       "       [252., 253., 254., 255., 256., 257., 258., 259., 260., 261., 262.,\n",
       "        263., 264., 265., 266., 267., 268., 269., 270., 271., 272.],\n",
       "       [273., 274., 275., 276., 277., 278., 279., 280., 281., 282., 283.,\n",
       "        284., 285., 286., 287., 288., 289., 290., 291., 292., 293.],\n",
       "       [294., 295., 296., 297., 298., 299., 300., 301., 302., 303., 304.,\n",
       "        305., 306., 307., 308., 309., 310., 311., 312., 313., 314.],\n",
       "       [315., 316., 317., 318., 319., 320., 321., 322., 323., 324., 325.,\n",
       "        326., 327., 328., 329., 330., 331., 332., 333., 334., 335.],\n",
       "       [336., 337., 338., 339., 340., 341., 342., 343., 344., 345., 346.,\n",
       "        347., 348., 349., 350., 351., 352., 353., 354., 355., 356.],\n",
       "       [357., 358., 359., 360., 361., 362., 363., 364., 365., 366., 367.,\n",
       "        368., 369., 370., 371., 372., 373., 374., 375., 376., 377.],\n",
       "       [378., 379., 380., 381., 382., 383., 384., 385., 386., 387., 388.,\n",
       "        389., 390., 391., 392., 393., 394., 395., 396., 397., 398.],\n",
       "       [399., 400., 401., 402., 403., 404., 405., 406., 407., 408., 409.,\n",
       "        410., 411., 412., 413., 414., 415., 416., 417., 418., 419.],\n",
       "       [420., 421., 422., 423., 424., 425., 426., 427., 428., 429., 430.,\n",
       "        431., 432., 433., 434., 435., 436., 437., 438., 439., 440.]])"
      ]
     },
     "execution_count": 98,
     "metadata": {},
     "output_type": "execute_result"
    }
   ],
   "source": [
    "q\n",
    "#se nota que q[10][10] = 220, es decir que el valor i(10,10)=220, y como kx[10]=0, entonces i=220 otorga el vector momento nulo"
   ]
  },
  {
   "cell_type": "code",
   "execution_count": 99,
   "id": "e6998978",
   "metadata": {},
   "outputs": [],
   "source": [
    "#se define la matriz i y j de dimension NxN=N**2\n",
    "def i(rx,ry):\n",
    "    return q[rx,ry]\n",
    "def j(rx,ry):\n",
    "    return q[rx,ry]"
   ]
  },
  {
   "cell_type": "code",
   "execution_count": 100,
   "id": "11fa596a",
   "metadata": {},
   "outputs": [
    {
     "data": {
      "text/plain": [
       "0.0"
      ]
     },
     "execution_count": 100,
     "metadata": {},
     "output_type": "execute_result"
    }
   ],
   "source": [
    "i(0,0)\n",
    "#indica el item ubicado en la posición (0,0) en la matriz q"
   ]
  },
  {
   "cell_type": "code",
   "execution_count": 101,
   "id": "330c1fb3",
   "metadata": {},
   "outputs": [
    {
     "data": {
      "text/plain": [
       "0.0"
      ]
     },
     "execution_count": 101,
     "metadata": {},
     "output_type": "execute_result"
    }
   ],
   "source": [
    "j(0,0)\n",
    "#indica el item ubicado en la posición (0,0) en la matriz q"
   ]
  },
  {
   "cell_type": "code",
   "execution_count": 102,
   "id": "98aa53bc",
   "metadata": {},
   "outputs": [],
   "source": [
    "#relacionamos cada elemento de la matriz con sus indices\n",
    "def find(element, matrix):\n",
    "    for i in range(len(matrix)):\n",
    "        for j in range(len(matrix[i])):\n",
    "            if matrix[i][j] == element:\n",
    "                return (i, j)"
   ]
  },
  {
   "cell_type": "code",
   "execution_count": 103,
   "id": "48677e74",
   "metadata": {},
   "outputs": [
    {
     "data": {
      "text/plain": [
       "(10, 10)"
      ]
     },
     "execution_count": 103,
     "metadata": {},
     "output_type": "execute_result"
    }
   ],
   "source": [
    "find(220,q)"
   ]
  },
  {
   "cell_type": "code",
   "execution_count": 104,
   "id": "2d51c779",
   "metadata": {},
   "outputs": [],
   "source": [
    "#mostramos la matriz N**2 X N**2\n",
    "def V(i,j):\n",
    "    k1=find(i,q)\n",
    "    k2=find(j,q)\n",
    "    \n",
    "    kx1=kx[k1[0]]\n",
    "    ky1=ky[k1[1]]\n",
    "    \n",
    "    kx2=kx[k2[0]]\n",
    "    ky2=ky[k2[1]]\n",
    "    return V0+Vn*(cos((kx1-kx2)*a)+cos((ky1-ky2)*a))"
   ]
  },
  {
   "cell_type": "code",
   "execution_count": 105,
   "id": "0cd02499",
   "metadata": {},
   "outputs": [
    {
     "data": {
      "text/plain": [
       "-10.0"
      ]
     },
     "execution_count": 105,
     "metadata": {},
     "output_type": "execute_result"
    }
   ],
   "source": [
    "V(220,220)\n",
    "#220 es el número en la tabla de valores de q en donde ambos componentes del vector momentum son cero\n",
    "#solo en la cadena de momentos usamos kx[10] = 0, para el momento nulo usamos i=220 "
   ]
  },
  {
   "cell_type": "code",
   "execution_count": 106,
   "id": "78e472f3",
   "metadata": {},
   "outputs": [],
   "source": [
    "#se muestra la función V en forma matricial\n",
    "Vm = np.zeros((Nx**2,Ny**2))\n",
    "for m in range(0,Nx*Nx):\n",
    "    for n in range(0,Ny*Ny):\n",
    "        Vm[m][n] = V(m,n)"
   ]
  },
  {
   "cell_type": "code",
   "execution_count": 107,
   "id": "eec8203e",
   "metadata": {},
   "outputs": [
    {
     "data": {
      "text/plain": [
       "array([[-10., -10., -10., ..., -10., -10., -10.],\n",
       "       [-10., -10., -10., ..., -10., -10., -10.],\n",
       "       [-10., -10., -10., ..., -10., -10., -10.],\n",
       "       ...,\n",
       "       [-10., -10., -10., ..., -10., -10., -10.],\n",
       "       [-10., -10., -10., ..., -10., -10., -10.],\n",
       "       [-10., -10., -10., ..., -10., -10., -10.]])"
      ]
     },
     "execution_count": 107,
     "metadata": {},
     "output_type": "execute_result"
    }
   ],
   "source": [
    "Vm\n",
    "#se ve que debido a que Vn=0 y V0=-10, entonces todos los elementos\n",
    "#de la matriz potencial será igual a -10"
   ]
  },
  {
   "cell_type": "code",
   "execution_count": 108,
   "id": "1daf2507",
   "metadata": {},
   "outputs": [],
   "source": [
    "#mostramos la función de energía cinética E\n",
    "def E(i):\n",
    "    k1=find(i,q)\n",
    "    \n",
    "    kx1=kx[k1[0]]\n",
    "    ky1=ky[k1[1]]\n",
    "    return -2*t*(cos(kx1*a)+cos(ky1*a))"
   ]
  },
  {
   "cell_type": "code",
   "execution_count": 109,
   "id": "a1bd9382",
   "metadata": {},
   "outputs": [
    {
     "data": {
      "text/plain": [
       "0.0"
      ]
     },
     "execution_count": 109,
     "metadata": {},
     "output_type": "execute_result"
    }
   ],
   "source": [
    "E(220)\n",
    "#ya que en el array de kx[10]=0, y el 112 se ubica en la posición 10,10 de la tabla de valores q"
   ]
  },
  {
   "cell_type": "code",
   "execution_count": 110,
   "id": "26458e4b",
   "metadata": {},
   "outputs": [],
   "source": [
    "#se añade un factor complejo a la energía\n",
    "eta = 0.1\n",
    "cpj= complex(0,1)\n",
    "#complex(a,b) = a+bj\n",
    "#para un valor de eta mas grande, la gráfica mostrará mayor suavidad"
   ]
  },
  {
   "cell_type": "code",
   "execution_count": 111,
   "id": "a59d7a1e",
   "metadata": {},
   "outputs": [],
   "source": [
    "#mostramos la función K, que depende de w\n",
    "def K(i,j,w):\n",
    "    return V(i,j)/((w-2*E(j)+cpj*eta))"
   ]
  },
  {
   "cell_type": "code",
   "execution_count": 112,
   "id": "752abe6a",
   "metadata": {},
   "outputs": [
    {
     "data": {
      "text/plain": [
       "(-9.900990099009901+0.9900990099009901j)"
      ]
     },
     "execution_count": 112,
     "metadata": {},
     "output_type": "execute_result"
    }
   ],
   "source": [
    "K(220,220,1)"
   ]
  },
  {
   "cell_type": "code",
   "execution_count": 113,
   "id": "e2649c91",
   "metadata": {},
   "outputs": [],
   "source": [
    "#se da a función K en forma matricial que depende de w\n",
    "U = np.zeros((Nx**2, Ny**2), dtype=complex)\n",
    "def Km(w):\n",
    "    for nx in range(0,Nx**2):\n",
    "        for ny in range(0,Ny**2):\n",
    "            U[nx][ny] = K(nx,ny,w)/(Nx*Ny) #cambio sugerido\n",
    "    return U"
   ]
  },
  {
   "cell_type": "code",
   "execution_count": 114,
   "id": "6d20bc30",
   "metadata": {},
   "outputs": [],
   "source": [
    "#se define la matriz identidad\n",
    "I = np.zeros((Nx**2,Ny**2), dtype=complex)\n",
    "for nx in range(0,Nx**2):\n",
    "    I[nx][nx] = 1.0"
   ]
  },
  {
   "cell_type": "code",
   "execution_count": 115,
   "id": "eec7dee8",
   "metadata": {},
   "outputs": [
    {
     "data": {
      "text/plain": [
       "array([[1.+0.j, 0.+0.j, 0.+0.j, ..., 0.+0.j, 0.+0.j, 0.+0.j],\n",
       "       [0.+0.j, 1.+0.j, 0.+0.j, ..., 0.+0.j, 0.+0.j, 0.+0.j],\n",
       "       [0.+0.j, 0.+0.j, 1.+0.j, ..., 0.+0.j, 0.+0.j, 0.+0.j],\n",
       "       ...,\n",
       "       [0.+0.j, 0.+0.j, 0.+0.j, ..., 1.+0.j, 0.+0.j, 0.+0.j],\n",
       "       [0.+0.j, 0.+0.j, 0.+0.j, ..., 0.+0.j, 1.+0.j, 0.+0.j],\n",
       "       [0.+0.j, 0.+0.j, 0.+0.j, ..., 0.+0.j, 0.+0.j, 1.+0.j]])"
      ]
     },
     "execution_count": 115,
     "metadata": {},
     "output_type": "execute_result"
    }
   ],
   "source": [
    "I"
   ]
  },
  {
   "cell_type": "code",
   "execution_count": 116,
   "id": "15296e72",
   "metadata": {},
   "outputs": [],
   "source": [
    "#se define la matriz T\n",
    "def T(w):\n",
    "    K2 = (I-Km(w))\n",
    "    K3 = np.linalg.inv(K2) #matriz inversa\n",
    "    K4 = np.dot(K3, Vm) #producto matricial\n",
    "    return K4[220][220].imag #solo se estan tomando los valores donde ambos momentos son iguales a cero, se usa la parte imaginaria"
   ]
  },
  {
   "cell_type": "code",
   "execution_count": 117,
   "id": "98bd6992",
   "metadata": {},
   "outputs": [],
   "source": [
    "x = np.linspace(-15,5,80)"
   ]
  },
  {
   "cell_type": "code",
   "execution_count": 118,
   "id": "9c4cb545",
   "metadata": {},
   "outputs": [
    {
     "name": "stdout",
     "output_type": "stream",
     "text": [
      "Execution time: 2709.365808725357 seconds\n"
     ]
    }
   ],
   "source": [
    "# se añade un algoritmo para medir el tiempo de compilacion\n",
    "st = time.time()\n",
    "\n",
    "#algoritmo para generar los valores de la cadena para T(w)\n",
    "\n",
    "R =np.zeros(len(x))\n",
    "for z in range(len(x)):\n",
    "    R[z] = T(x[z])\n",
    "    \n",
    "\n",
    "\n",
    "# espera por 3 segundos\n",
    "time.sleep(3)\n",
    "\n",
    "\n",
    "# se obtiene el tiempo final\n",
    "et = time.time()\n",
    "\n",
    "# se tiene el tiempo de ejecución\n",
    "elapsed_time = et - st\n",
    "print('Execution time:', elapsed_time, 'seconds')"
   ]
  },
  {
   "cell_type": "code",
   "execution_count": 119,
   "id": "d64c38a0",
   "metadata": {},
   "outputs": [
    {
     "data": {
      "image/png": "[encoded data removed]",
      "text/plain": [
       "<Figure size 640x480 with 1 Axes>"
      ]
     },
     "metadata": {},
     "output_type": "display_data"
    }
   ],
   "source": [
    "plt.plot(x, R)\n",
    "plt.grid()\n",
    "plt.xlabel('w')\n",
    "plt.ylabel('T(w)')\n",
    "plt.show()"
   ]
  },
  {
   "cell_type": "code",
   "execution_count": null,
   "id": "53dbef7c",
   "metadata": {},
   "outputs": [],
   "source": []
  },
  {
   "cell_type": "code",
   "execution_count": null,
   "id": "aa3ae773",
   "metadata": {},
   "outputs": [],
   "source": []
  },
  {
   "cell_type": "code",
   "execution_count": null,
   "id": "3f75d13b",
   "metadata": {},
   "outputs": [],
   "source": []
  },
  {
   "cell_type": "code",
   "execution_count": null,
   "id": "8074508c",
   "metadata": {},
   "outputs": [],
   "source": []
  }
 ],
 "metadata": {
  "kernelspec": {
   "display_name": "Python 3 (ipykernel)",
   "language": "python",
   "name": "python3"
  },
  "language_info": {
   "codemirror_mode": {
    "name": "ipython",
    "version": 3
   },
   "file_extension": ".py",
   "mimetype": "text/x-python",
   "name": "python",
   "nbconvert_exporter": "python",
   "pygments_lexer": "ipython3",
   "version": "3.9.13"
  }
 },
 "nbformat": 4,
 "nbformat_minor": 5
}
